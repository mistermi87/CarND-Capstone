{
 "cells": [
  {
   "cell_type": "code",
   "execution_count": 1,
   "metadata": {},
   "outputs": [
    {
     "name": "stdout",
     "output_type": "stream",
     "text": [
      "3.3.1\n"
     ]
    }
   ],
   "source": [
    "import cv2\n",
    "# print(cv2.__version__)"
   ]
  },
  {
   "cell_type": "code",
   "execution_count": 2,
   "metadata": {},
   "outputs": [],
   "source": [
    "vidcap = cv2.VideoCapture('video/sim_record.mp4')\n",
    "count = 0\n",
    "\n",
    "while True:\n",
    "    ret, frame = vidcap.read()\n",
    "    count_mod = 15\n",
    "\n",
    "    if ret == True:\n",
    "        if(count % count_mod == 0):\n",
    "            cv2.imwrite(\"image/frame%d.jpg\" % int(count/count_mod), frame)\n",
    "        count += 1\n",
    "    else:\n",
    "        break\n"
   ]
  },
  {
   "cell_type": "code",
   "execution_count": 3,
   "metadata": {},
   "outputs": [],
   "source": [
    "import os, sys, re\n",
    "from PIL import Image\n",
    "\n",
    "files = [f for f in os.listdir('./image/') if re.match(\"frame\" + r'[0-9]+.*\\.jpg', f)]\n",
    "\n",
    "for file in files:\n",
    "    img = Image.open('./image/' + file)\n",
    "    img = img.crop((30, 0, 308+30, 231))\n",
    "    img = img.resize((800, 600), Image.ANTIALIAS)\n",
    "    img.save(\"./modified/\" + file) "
   ]
  },
  {
   "cell_type": "code",
   "execution_count": null,
   "metadata": {},
   "outputs": [],
   "source": []
  },
  {
   "cell_type": "code",
   "execution_count": null,
   "metadata": {
    "collapsed": true
   },
   "outputs": [],
   "source": []
  }
 ],
 "metadata": {
  "kernelspec": {
   "display_name": "Python 3",
   "language": "python",
   "name": "python3"
  },
  "language_info": {
   "codemirror_mode": {
    "name": "ipython",
    "version": 3
   },
   "file_extension": ".py",
   "mimetype": "text/x-python",
   "name": "python",
   "nbconvert_exporter": "python",
   "pygments_lexer": "ipython3",
   "version": "3.6.1"
  }
 },
 "nbformat": 4,
 "nbformat_minor": 2
}
